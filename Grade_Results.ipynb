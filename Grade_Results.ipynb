{
  "nbformat": 4,
  "nbformat_minor": 0,
  "metadata": {
    "colab": {
      "provenance": [],
      "authorship_tag": "ABX9TyNhxMzWXVUauokAZkPMLhwN",
      "include_colab_link": true
    },
    "kernelspec": {
      "name": "python3",
      "display_name": "Python 3"
    },
    "language_info": {
      "name": "python"
    }
  },
  "cells": [
    {
      "cell_type": "markdown",
      "metadata": {
        "id": "view-in-github",
        "colab_type": "text"
      },
      "source": [
        "<a href=\"https://colab.research.google.com/github/MohammedAsifOnline/Collab/blob/main/Grade_Results.ipynb\" target=\"_parent\"><img src=\"https://colab.research.google.com/assets/colab-badge.svg\" alt=\"Open In Colab\"/></a>"
      ]
    },
    {
      "cell_type": "code",
      "source": [],
      "metadata": {
        "id": "fm4wgCq6LKUV"
      },
      "execution_count": null,
      "outputs": []
    },
    {
      "cell_type": "code",
      "source": [],
      "metadata": {
        "id": "-oq1Vy3QnAuR"
      },
      "execution_count": null,
      "outputs": []
    },
    {
      "cell_type": "code",
      "source": [
        "searchbar = input(\"Enter Marks: \")\n",
        "Marks = int(searchbar)\n",
        "\n",
        "if Marks >= 101:\n",
        "    print(\"Invalid Marks\")\n",
        "elif Marks >= 90:\n",
        "    print(\"Grade A\")\n",
        "elif Marks >= 80:\n",
        "    print(\"Grade B\")\n",
        "elif Marks >= 70:\n",
        "    print(\"Grade C\")\n",
        "elif Marks >= 60:\n",
        "    print(\"Grade D\")\n",
        "else:\n",
        "    print(\"Fail\")"
      ],
      "metadata": {
        "id": "b2qR51R2Hm1O",
        "colab": {
          "base_uri": "https://localhost:8080/"
        },
        "outputId": "18b6f4dd-3d0c-4a12-cf8d-1ac926ff2961"
      },
      "execution_count": null,
      "outputs": [
        {
          "output_type": "stream",
          "name": "stdout",
          "text": [
            "Enter Marks: 100\n",
            "Grade A\n"
          ]
        }
      ]
    }
  ]
}